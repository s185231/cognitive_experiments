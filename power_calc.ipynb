{
 "cells": [
  {
   "cell_type": "code",
   "execution_count": 1,
   "metadata": {},
   "outputs": [
    {
     "name": "stdout",
     "output_type": "stream",
     "text": [
      "Number in *each* group: 33.02457\n",
      "62.71999999999999\n",
      "62.71999999999999\n"
     ]
    }
   ],
   "source": [
    "from statsmodels.stats.power import tt_ind_solve_power\n",
    "\n",
    "std_effect_size = 0.7\n",
    "\n",
    "n = tt_ind_solve_power(effect_size=std_effect_size, alpha=0.05, power=0.8, ratio=1, alternative='two-sided')\n",
    "print('Number in *each* group: {:.5f}'.format(n))\n",
    "\n",
    "print((2*(-1.5-1.3)**2) / 0.5**2)\n",
    "print((2*(1.96+0.84)**2) / 0.5**2)"
   ]
  }
 ],
 "metadata": {
  "kernelspec": {
   "display_name": "cog_env",
   "language": "python",
   "name": "python3"
  },
  "language_info": {
   "codemirror_mode": {
    "name": "ipython",
    "version": 3
   },
   "file_extension": ".py",
   "mimetype": "text/x-python",
   "name": "python",
   "nbconvert_exporter": "python",
   "pygments_lexer": "ipython3",
   "version": "3.11.10"
  }
 },
 "nbformat": 4,
 "nbformat_minor": 2
}
